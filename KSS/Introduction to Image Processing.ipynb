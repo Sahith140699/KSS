{
 "cells": [
  {
   "cell_type": "markdown",
   "metadata": {},
   "source": [
    "# Image Processing using OpenCV\n",
    "\n",
    "## -By IEEE NITK\n",
    "\n",
    "### Veiwing Images\n",
    "\n",
    "In this snippet, we load a image and we then display the same image If this works without any issues you're good to go!"
   ]
  },
  {
   "cell_type": "code",
   "execution_count": 69,
   "metadata": {},
   "outputs": [],
   "source": [
    "import numpy as np\n",
    "import cv2\n",
    "from matplotlib import pyplot as plt\n",
    "img = cv2.imread('First.jpeg',1)\n",
    "cv2.imshow('image', img)\n",
    "cv2.waitKey()\n",
    "cv2.destroyAllWindows()"
   ]
  },
  {
   "cell_type": "markdown",
   "metadata": {},
   "source": [
    "## Conversion From RGB to a Grayscale Image:¶\n",
    "\n",
    "Here we use the formulae descirbed earlier to do the conversion Here's the formula again:\n",
    "\n",
    "### Average\n",
    "Gray = (R+G+B)/3\n",
    "\n",
    "###  Luminosity\n",
    "Gray = 0.21R + 0.72G + 0.07*B"
   ]
  },
  {
   "cell_type": "code",
   "execution_count": 59,
   "metadata": {},
   "outputs": [],
   "source": [
    "blue = img[:,:,0]\n",
    "green = img[:,:,1]\n",
    "red = img[:,:,2]\n",
    "\n",
    "mean = (0.33*blue + 0.33*green + 0.33*red).astype('uint8')\n",
    "lumin = (0.07*blue + 0.72*green + 0.21*red).astype('uint8')\n",
    "\n",
    "\n",
    "cv2.imshow('mean',mean)\n",
    "cv2.waitKey()\n",
    "cv2.destroyAllWindows()\n",
    "\n",
    "cv2.imshow('lumin',lumin)\n",
    "cv2.waitKey()\n",
    "cv2.destroyAllWindows()"
   ]
  },
  {
   "cell_type": "markdown",
   "metadata": {},
   "source": [
    "### Conversion from Grayscale to Binary:\n",
    "\n",
    "Here we will implement the concept of thresholding\n",
    "All values above the threshold of 127 are set high (255) , and those below are set low (0)"
   ]
  },
  {
   "cell_type": "code",
   "execution_count": 60,
   "metadata": {},
   "outputs": [],
   "source": [
    "img = cv2.imread('threshold.jpg',0) #Threshold_adaptive\n",
    "ret,th1 = cv2.threshold(img,140,255,cv2.THRESH_BINARY)\n",
    "cv2.imshow('output',th1)\n",
    "cv2.waitKey()\n",
    "cv2.destroyAllWindows()"
   ]
  },
  {
   "cell_type": "markdown",
   "metadata": {},
   "source": [
    "In the previous section, we used a global value as threshold value. But it may not be good in all the conditions where image has different lighting conditions in different areas."
   ]
  },
  {
   "cell_type": "code",
   "execution_count": 61,
   "metadata": {},
   "outputs": [],
   "source": [
    "img = cv2.imread('Threshold_adaptive.jpeg',0)\n",
    "\n",
    "th2 = cv2.adaptiveThreshold(img,255,cv2.ADAPTIVE_THRESH_MEAN_C,cv2.THRESH_BINARY,11,2)       #Mean\n",
    "th3 = cv2.adaptiveThreshold(img,255,cv2.ADAPTIVE_THRESH_GAUSSIAN_C,cv2.THRESH_BINARY,11,2)   #Gaussian\n",
    "cv2.imshow('out',th2)\n",
    "cv2.imshow('output',th3)\n",
    "cv2.waitKey()\n",
    "cv2.destroyAllWindows()"
   ]
  },
  {
   "cell_type": "markdown",
   "metadata": {},
   "source": [
    "## Detection of a Specific Color in an Image:"
   ]
  },
  {
   "cell_type": "code",
   "execution_count": 62,
   "metadata": {},
   "outputs": [],
   "source": [
    "img = cv2.imread('gems.jpg',1)\n",
    "hsv = cv2.cvtColor(img,cv2.COLOR_BGR2HSV)\n",
    "lower_color = np.array([45,0,0])\n",
    "upper_color = np.array([90,255,255])\n",
    "mask = cv2.inRange(hsv, lower_color, upper_color)\n",
    "out = cv2.bitwise_and(img,img,mask=mask)\n",
    "cv2.imshow('original',img)\n",
    "cv2.imshow('output',out)\n",
    "cv2.waitKey()\n",
    "cv2.destroyAllWindows()"
   ]
  },
  {
   "cell_type": "markdown",
   "metadata": {},
   "source": [
    "### Read the image \"nowYouDont.png\" and see what is written on it..........."
   ]
  },
  {
   "cell_type": "code",
   "execution_count": 98,
   "metadata": {},
   "outputs": [],
   "source": [
    "img = cv2.imread('nowYouDont.png',1)\n",
    "cv2.imshow('original',img)\n",
    "cv2.waitKey()\n",
    "cv2.destroyAllWindows()\n",
    "\n",
    "# Write code here"
   ]
  },
  {
   "cell_type": "markdown",
   "metadata": {},
   "source": [
    "## Convolution"
   ]
  },
  {
   "cell_type": "code",
   "execution_count": 87,
   "metadata": {},
   "outputs": [],
   "source": [
    "img = cv2.imread('lena.jpg',0)\n",
    "\n",
    "#kernel = np.ones((5,5),np.float32)/25  # Blur\n",
    "\n",
    "output = cv2.filter2D(img,-1,kernelx)   #Convolution\n",
    "\n",
    "cv2.imshow('original',img)\n",
    "cv2.imshow('Blur',output)\n",
    "cv2.waitKey()\n",
    "cv2.destroyAllWindows()\n"
   ]
  },
  {
   "cell_type": "markdown",
   "metadata": {},
   "source": [
    "kernel = np.array(([1,0,-1],[2,0,-2],[1,0,-1]),dtype=np.int) #Sobelx (Differentiation in x direction)\n",
    "\n",
    "kernel = np.array(([1,2,1],[0,0,0],[-1,-2,-1]),dtype=np.int) #Sobely (Differentiation in y direction)\n",
    "\n",
    "kernel = np.array(([0,-1,0],[-1,5,-1],[0,-1,0]),dtype=np.int) #Sharpen\n",
    "\n",
    "kernel = np.array([0, 1, 0],[1, -4, 1],[0, 1, 0]), dtype=\"int\") #Laplacian (Double Differentiation)\n",
    "\n",
    "Try Convolution with the above kernels."
   ]
  },
  {
   "cell_type": "code",
   "execution_count": 90,
   "metadata": {},
   "outputs": [],
   "source": [
    "img = cv2.imread('lena.jpg',0)\n",
    "blur = cv2.GaussianBlur(img,(5,5),0) #Here (5,5) refers to a Gaussian kernel of size 5x5 of zero variance\n",
    "\n",
    "cv2.imshow('original',img)\n",
    "cv2.imshow('Blur',blur)\n",
    "cv2.waitKey()\n",
    "cv2.destroyAllWindows()\n"
   ]
  },
  {
   "cell_type": "markdown",
   "metadata": {},
   "source": [
    "### Edge Detection \n",
    "\n",
    "We will use the Sobel Operator to detect edges in an image"
   ]
  },
  {
   "cell_type": "code",
   "execution_count": null,
   "metadata": {},
   "outputs": [],
   "source": [
    "img = cv2.imread('chessboard.jpg',0)\n",
    "\n",
    "sobelx = cv2.Sobel(img,cv2.CV_64F,1,0,ksize=5) \n",
    "sobely = cv2.Sobel(img,cv2.CV_64F,0,1,ksize=5)\n",
    "\n",
    "sobel_both = np.sqrt(sobelx**2 + sobely**2 )\n",
    "\n",
    "\n",
    "cv2.imshow('SobelX',sobelx)\n",
    "cv2.imshow('SobelY',sobely)\n",
    "cv2.imshow('Sobel_Both',sobel_both)\n",
    "cv2.waitKey()\n",
    "cv2.destroyAllWindows()\n"
   ]
  },
  {
   "cell_type": "markdown",
   "metadata": {},
   "source": [
    "## Frequency Domain"
   ]
  },
  {
   "cell_type": "code",
   "execution_count": 97,
   "metadata": {},
   "outputs": [],
   "source": [
    "img = cv2.imread('sine2.jpg',0)\n",
    "\n",
    "dft = cv2.dft(np.float32(img),flags = cv2.DFT_COMPLEX_OUTPUT)\n",
    "dft_shift = np.fft.fftshift(dft)\n",
    "\n",
    "mag_spectrum = 20*np.log(cv2.magnitude(dft_shift[:,:,0],dft_shift[:,:,1]))  \n",
    "mag_spectrum = np.asarray(mag_spectrum, dtype = np.uint8)\n",
    "cv2.imshow('sine',img)\n",
    "cv2.imshow('Freq-Domain',mag_spectrum)\n",
    "cv2.waitKey()\n",
    "cv2.destroyAllWindows()"
   ]
  },
  {
   "cell_type": "markdown",
   "metadata": {},
   "source": [
    "## Morphological Transformations\n",
    "\n",
    "Erosion and Dilation"
   ]
  },
  {
   "cell_type": "code",
   "execution_count": 92,
   "metadata": {},
   "outputs": [],
   "source": [
    "img = cv2.imread('Erosion.png',0)\n",
    "cv2.imshow('Original',img)\n",
    "cv2.waitKey()\n",
    "cv2.destroyAllWindows()\n",
    "\n",
    "ret,th1 = cv2.threshold(img,140,255,cv2.THRESH_BINARY)\n",
    "\n",
    "kernel = np.ones((5,5),np.uint8)\n",
    "dilate = cv2.dilate(th1,kernel,iterations = 1)\n",
    "cv2.imshow('Erosion',erosion)\n",
    "cv2.imshow('original',th1)\n",
    "cv2.waitKey()\n",
    "cv2.destroyAllWindows()\n",
    "\n",
    "kernel1 = np.ones((5,5),np.uint8)\n",
    "erosion = cv2.erode(th1,kernel1,iterations = 1)\n",
    "cv2.imshow('Dilate',dilate)\n",
    "cv2.imshow('original',th1)\n",
    "cv2.waitKey()\n",
    "cv2.destroyAllWindows()"
   ]
  },
  {
   "cell_type": "markdown",
   "metadata": {},
   "source": [
    "Read the image Sun.jpg and find the position of Sun..."
   ]
  },
  {
   "cell_type": "code",
   "execution_count": 100,
   "metadata": {},
   "outputs": [],
   "source": [
    "img  = cv2.imread('Sun.jpg',0)\n",
    "cv2.imshow(\"SUN\",img)\n",
    "cv2.waitKey()\n",
    "cv2.destroyAllWindows()\n",
    "\n",
    "# Write code here"
   ]
  },
  {
   "cell_type": "markdown",
   "metadata": {},
   "source": [
    "### Face Detection\n",
    "\n",
    "Here we implement the Haar Cascades to detect a face in a given image"
   ]
  },
  {
   "cell_type": "code",
   "execution_count": 67,
   "metadata": {},
   "outputs": [],
   "source": [
    "import numpy as np\n",
    "import cv2 as cv\n",
    "face_cascade = cv.CascadeClassifier('haarcascade_frontalface_default.xml')\n",
    "eye_cascade = cv.CascadeClassifier('haarcascade_eye.xml')\n",
    "\n",
    "img = cv.imread('lena.jpg',1)\n",
    "gray = cv.cvtColor(img, cv.COLOR_BGR2GRAY)\n",
    "\n",
    "faces = face_cascade.detectMultiScale(gray, 1.3, 5)\n",
    "for (x,y,w,h) in faces:\n",
    "    cv.rectangle(img,(x,y),(x+w,y+h),(255,0,0),2)\n",
    "    roi_gray = gray[y:y+h, x:x+w]\n",
    "    roi_color = img[y:y+h, x:x+w]\n",
    "    eyes = eye_cascade.detectMultiScale(roi_gray)\n",
    "    for (ex,ey,ew,eh) in eyes:\n",
    "        cv.rectangle(roi_color,(ex,ey),(ex+ew,ey+eh),(0,255,0),2)\n",
    "cv.imshow('img',img)\n",
    "cv.waitKey()\n",
    "cv.destroyAllWindows()"
   ]
  },
  {
   "cell_type": "code",
   "execution_count": null,
   "metadata": {},
   "outputs": [],
   "source": []
  }
 ],
 "metadata": {
  "kernelspec": {
   "display_name": "Python 3",
   "language": "python",
   "name": "python3"
  },
  "language_info": {
   "codemirror_mode": {
    "name": "ipython",
    "version": 3
   },
   "file_extension": ".py",
   "mimetype": "text/x-python",
   "name": "python",
   "nbconvert_exporter": "python",
   "pygments_lexer": "ipython3",
   "version": "3.7.0"
  }
 },
 "nbformat": 4,
 "nbformat_minor": 2
}
